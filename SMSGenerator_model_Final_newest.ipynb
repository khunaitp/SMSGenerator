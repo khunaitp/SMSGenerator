{
  "nbformat": 4,
  "nbformat_minor": 0,
  "metadata": {
    "colab": {
      "provenance": []
    },
    "kernelspec": {
      "name": "python3",
      "display_name": "Python 3"
    },
    "language_info": {
      "name": "python"
    },
    "accelerator": "GPU",
    "gpuClass": "standard"
  },
  "cells": [
    {
      "cell_type": "markdown",
      "source": [
        "# SMS Spam Generation\n",
        "ref: \n",
        "\n",
        "*  https://www.kaggle.com/code/shivamb/beginners-guide-to-text-generation-using-lstms/notebook\n",
        "*   https://github.com/kokkoks/thai-joke-sentence-generator/blob/main/Text_Generation_using_LSTMs.ipynb\n",
        "\n",
        "\n",
        "\n",
        "\n"
      ],
      "metadata": {
        "id": "2LaiFuqZze4J"
      }
    },
    {
      "cell_type": "code",
      "execution_count": 1,
      "metadata": {
        "id": "r5TVi_be05hX"
      },
      "outputs": [],
      "source": [
        "# Import dependencies\n",
        "import numpy as np\n",
        "import pandas as pd\n",
        "import matplotlib\n",
        "import matplotlib.pyplot as plt\n",
        "import os, pathlib, shutil, random\n",
        "\n",
        "import tensorflow as tf\n",
        "from tensorflow import keras\n",
        "from tensorflow.keras import Sequential, Input, Model\n",
        "from tensorflow.keras.regularizers import l2\n",
        "from tensorflow.keras.optimizers import RMSprop, Adam, SGD\n",
        "from tensorflow.keras.layers import Conv2D, MaxPooling2D, BatchNormalization, Activation, AveragePooling2D, TextVectorization\n",
        "from tensorflow.keras.layers import Dense, Flatten, Softmax, Dropout, Embedding, SimpleRNN, LSTM, GRU, Bidirectional\n",
        "from tensorflow.keras.preprocessing.sequence import pad_sequences\n",
        "from tensorflow.keras.callbacks import EarlyStopping, ModelCheckpoint\n",
        "from tensorflow.keras.preprocessing.text import Tokenizer\n",
        "\n",
        "# set seeds for reproducability\n",
        "tf.random.set_seed(1234)\n",
        "from numpy.random import seed\n",
        "seed(1)"
      ]
    },
    {
      "cell_type": "code",
      "source": [
        "!curl 'https://raw.githubusercontent.com/khunaitp/SMSGenerator/main/sms_fi.txt' > sms_fi.txt"
      ],
      "metadata": {
        "colab": {
          "base_uri": "https://localhost:8080/"
        },
        "id": "plaPv1luRMOa",
        "outputId": "a18ed446-9d7c-4b0e-d28c-78d6ab4e5373"
      },
      "execution_count": 2,
      "outputs": [
        {
          "output_type": "stream",
          "name": "stdout",
          "text": [
            "  % Total    % Received % Xferd  Average Speed   Time    Time     Time  Current\n",
            "                                 Dload  Upload   Total   Spent    Left  Speed\n",
            "100  148k  100  148k    0     0   600k      0 --:--:-- --:--:-- --:--:--  602k\n"
          ]
        }
      ]
    },
    {
      "cell_type": "code",
      "source": [
        "# โหลดไฟล์ spam sms\n",
        "f = open('sms_fi.txt', 'r', encoding='utf-8')\n",
        "content = f.read()\n",
        "#print(content)\n",
        "f.close()"
      ],
      "metadata": {
        "id": "tF2-fkN41DOA"
      },
      "execution_count": 3,
      "outputs": []
    },
    {
      "cell_type": "code",
      "source": [
        "print(len(content))"
      ],
      "metadata": {
        "colab": {
          "base_uri": "https://localhost:8080/"
        },
        "id": "8PqEtA5P1Euo",
        "outputId": "f467cac6-8b88-448e-89da-fe62d5491291"
      },
      "execution_count": 4,
      "outputs": [
        {
          "output_type": "stream",
          "name": "stdout",
          "text": [
            "71641\n"
          ]
        }
      ]
    },
    {
      "cell_type": "code",
      "source": [
        "sms_messages = []\n",
        "with open('sms_fi.txt', 'r') as f:\n",
        "    for line in f:\n",
        "        sms_messages.append(line.strip())\n",
        "#print(sms_messages)\n",
        "print(len(sms_messages))"
      ],
      "metadata": {
        "colab": {
          "base_uri": "https://localhost:8080/"
        },
        "id": "SQqxKpN01Gsn",
        "outputId": "5f7c71c9-016e-427d-f871-f96f6d56f68d"
      },
      "execution_count": 5,
      "outputs": [
        {
          "output_type": "stream",
          "name": "stdout",
          "text": [
            "1006\n"
          ]
        }
      ]
    },
    {
      "cell_type": "markdown",
      "source": [
        "Prepare Text"
      ],
      "metadata": {
        "id": "BEx1caNb1Ls5"
      }
    },
    {
      "cell_type": "code",
      "source": [
        "# ลบลิ้งค์ ลบเบอร์โทร ช่องทางที่ติดต่อที่ unique ทีจะไม่ generate ออกมา\n",
        "import re\n",
        "c_sms = [re.sub(r\"(http|https)://([\\w_-]+(?:(?:\\.[\\w_-]+)+))([\\w.,@?^=%&:/~+#-]*[\\w@?^=%&/~+#-])?\", \"\", i) for i in sms_messages]\n",
        "c_sms = [re.sub(r\"BankokIbank.com\", \"\", i) for i in c_sms]\n",
        "c_sms = [re.sub(r\"thai-life-az.com\", \"\", i) for i in c_sms]\n",
        "c_sms = [re.sub(r\"\\s*(dxdk33.vip|tinyurl.com|orll.cc|scb77.cc|gt166.me|bit.ly|Bit.ly|citly.me)/\\S*(\\s+|$)\", \"\", i) for i in c_sms]\n",
        "c_sms = [re.sub(r\"\\s*(cuttt.ly|rb.gy|oline.me|line.me|bit.do|c0c.me|org|lnnk.in|orll.ccl|zhort.link)/\\S*(\\s+|$)\", \"\", i) for i in c_sms]\n",
        "c_sms = [re.sub(r\"\\s*(shortcut.asia|dxdk33.vip|cut.ly|cutt.ly|shorturl.asia|u.to)/\\S+(\\s+|$)\", \"\", i) for i in c_sms]\n",
        "c_sms = [re.sub(r\"\\s*(tiny.cc|bitly.ws|1th.me)/\\S*(\\s+|$)\", \"\", i) for i in c_sms]\n",
        "c_sms = [re.sub(r\"\\s*(http|https)://(\\s+|$)\", \"\", i) for i in c_sms]\n",
        "c_sms = [re.sub(r\"(www|scb|shopee1-line|scb77|pxj6666)?\\.\\w+\\.(com|me|co|cc|org|net)\\/*\\w*\", \"\", i) for i in c_sms]\n",
        "c_sms = [re.sub(r\"\\w+\\.(com|me|co|cc|org|net)\", \"\", i) for i in c_sms]\n",
        "\n",
        "c_sms = [re.sub(r\"bit.:\", \"\", i) for i in c_sms]\n",
        "c_sms = [re.sub(r\"citibank-01\", \"\", i) for i in c_sms]\n",
        "c_sms = [re.sub(r\"cutt.ly/\", \"\", i) for i in c_sms]\n",
        "c_sms = [re.sub(r\"06523541797\", \"\", i) for i in c_sms]\n",
        "c_sms = [re.sub(r\"thxhkh.cn\", \"\", i) for i in c_sms]\n",
        "c_sms = [re.sub(r\"02-0290099\", \"\", i) for i in c_sms]\n",
        "c_sms = [re.sub(r\"dxdk33.vip\", \"\", i) for i in c_sms]\n",
        "\n",
        "c_sms = [re.sub(r\"(@LINE)\\s*:\\s*[@a-zA-Z0-9]+\", \"@LINE:\", i) for i in c_sms] # @LINE: mm242, @LINE:ijfoSD3\n",
        "c_sms = [re.sub(r\"(LINE：)\\s*[@a-zA-Z0-9]+\", \"LINE：\", i) for i in c_sms] # @LINE: mm242, @LINE:ijfoSD3\n",
        "c_sms = [re.sub(r\"(LINE:)\\s*[@a-zA-Z0-9]+\", \"LINE:\", i) for i in c_sms] # @LINE: mm242, @LINE:ijfoSD3\n",
        "c_sms = [re.sub(r\"(Line:)\\s*[@a-zA-Z0-9]+\", \"Line:\", i) for i in c_sms]\n",
        "c_sms = [re.sub(r\"(line)\\s*:\\s*[@a-zA-Z0-9]+\", \"line:\", i) for i in c_sms]\n",
        "c_sms = [re.sub(r\"(@LineID：)\\s*[@a-zA-Z0-9]+\", \"@LineID：\", i) for i in c_sms]\n",
        "c_sms = [re.sub(r\"(Line：)\\s*[@a-zA-Z0-9]+\", \"Line：\", i) for i in c_sms]\n",
        "c_sms = [re.sub(r\"(Line : )\\s*[@a-zA-Z0-9]+\", \"Line : \", i) for i in c_sms]\n",
        "c_sms = [re.sub(r\"(ID : )\\s*[@a-zA-Z0-9]+\", \"ID : \", i) for i in c_sms]\n",
        "c_sms = [re.sub(r\"(ID:)\\s*[@a-zA-Z0-9]+\", \"ID:\", i) for i in c_sms]\n",
        "\n",
        "c_sms = [re.sub(r\"[0]\\d{8,9}\", \"Line：\", i) for i in c_sms]\n",
        "c_sms = [re.sub(r\"(\\+\\d{1,3}\\s?)?((\\(\\d{3}\\)\\s?)|(\\d{3})(\\s|-?))(\\d{3}(\\s|-?))(\\d{4})(\\s?(([E|e]xt[:|.|]?)|x|X)(\\s?\\d+))?\", \"\", i) for i in c_sms] # Tel number"
      ],
      "metadata": {
        "id": "1_ofaZuB1IKn"
      },
      "execution_count": 6,
      "outputs": []
    },
    {
      "cell_type": "code",
      "source": [
        "# แก้คำผิด เพื่อให้ตัดคำและเรียนรู้ได้ถูกต้อง แก้เฉพาะคำที่ไม่ได้ตั้งใจผิด\n",
        "c_sms = [re.sub(r\"สิท ธิ์\", \"สิทธิ์\", i) for i in c_sms]\n",
        "c_sms = [re.sub(r\"ยิ นดี\", \"ยินดี\", i) for i in c_sms]\n",
        "c_sms = [re.sub(r\"ค ลิ๊ก\", \"คลิ๊ก\", i) for i in c_sms]\n",
        "c_sms = [re.sub(r\"คุ ณ\", \"คุณ\", i) for i in c_sms]\n",
        "c_sms = [re.sub(r\"ก าลัง\", \"กำลัง\", i) for i in c_sms]\n",
        "c_sms = [re.sub(r\"ท า\", \"ทำ\", i) for i in c_sms]\n",
        "c_sms = [re.sub(r\"【\", \"[\", i) for i in c_sms]\n",
        "c_sms = [re.sub(r\"】\", \"]\", i) for i in c_sms]\n",
        "c_sms = [re.sub(r\"：\", \":\", i) for i in c_sms]\n",
        "c_sms = [re.sub(r\"»\", \"\", i) for i in c_sms]\n",
        "c_sms = [re.sub(r\"“\", \"\", i) for i in c_sms]\n",
        "c_sms = [re.sub(r\"”\", \"\", i) for i in c_sms]\n",
        "c_sms = [re.sub(r\"☞\", \"\", i) for i in c_sms]\n",
        "c_sms = [re.sub(r\"，\", \"\", i) for i in c_sms]"
      ],
      "metadata": {
        "id": "UwRc2S8V1P9n"
      },
      "execution_count": 7,
      "outputs": []
    },
    {
      "cell_type": "code",
      "source": [
        "emoji_pattern = re.compile(\"[\"\n",
        "        u\"\\U0001F600-\\U0001F64F\"  # emoticons\n",
        "        u\"\\U0001F300-\\U0001F5FF\"  # symbols & pictographs\n",
        "        u\"\\U0001F680-\\U0001F6FF\"  # transport & map symbols\n",
        "        u\"\\U0001F1E0-\\U0001F1FF\"  # flags (iOS)\n",
        "                           \"]+\", flags=re.UNICODE)"
      ],
      "metadata": {
        "id": "X6GYmi-vr1C7"
      },
      "execution_count": 8,
      "outputs": []
    },
    {
      "cell_type": "code",
      "source": [
        "c_sms = [emoji_pattern.sub(r'', i) for i in c_sms]"
      ],
      "metadata": {
        "id": "aidv4pNvtKrC"
      },
      "execution_count": 9,
      "outputs": []
    },
    {
      "cell_type": "code",
      "source": [
        "c_sms = [re.sub(r\"\\d+\\s*[%]\", \"PERCENTAGE\", i) for i in c_sms]"
      ],
      "metadata": {
        "id": "C6QVKwsF2Ytw"
      },
      "execution_count": 10,
      "outputs": []
    },
    {
      "cell_type": "code",
      "source": [
        "import string\n",
        "\n",
        "c_sms = [''.join(char for char in item if char not in string.punctuation) for item in c_sms] "
      ],
      "metadata": {
        "id": "U1dXnj335BbO"
      },
      "execution_count": 11,
      "outputs": []
    },
    {
      "cell_type": "code",
      "source": [
        "c_sms[900:]"
      ],
      "metadata": {
        "colab": {
          "base_uri": "https://localhost:8080/"
        },
        "id": "JYE_qzRe_eZM",
        "outputId": "6edd7434-831a-4991-8b41-3ce958c86c42"
      },
      "execution_count": 12,
      "outputs": [
        {
          "output_type": "execute_result",
          "data": {
            "text/plain": [
              "['คุณลูกค้าผ่านเกณฑ์ยื่นสินเชื่อกับเราแล้วสอบถามที่',\n",
              " 'GSB คุณได้รับสิทธิ์ยื่นกู้ 230000 บาท คลิ๊ก',\n",
              " 'คุณได้รับสิทธิ์GSBออมสิน55000บาท',\n",
              " 'คุณได้รับเงินกู้ 200000 เข้าสู่ระบบเพื่อรับเงินค่ะ  ',\n",
              " 'ยินดีด้วย ท่านได้รับสิทธิ์ยื่นกู้ผ่านทาง GSB ออมสิน แอดไลน์',\n",
              " 'คุณมีเงินเดือน 12000 บาท อยู่ในยูสของคุณแล้ว ตรวจสอบตอนนี้',\n",
              " 'คุณได้รับการอนุมัติสินเชื่อสู้ภัย COVID19 คลิกเพื่อตรวจสอบ',\n",
              " 'คุณได้รับวงเงินพร้อมใช้50000บคลิก',\n",
              " 'ยินดีด้วย คุณได้รับสิทธิ์เงินกู้ 400000 ',\n",
              " 'App เป๋าตังPaotang อัพเดทเวอร์ชั่นใหม่โปรดอัพเดทก่อนหมดสิทธิ์ครั้งต่อไป อัพเดทได้ที่ ',\n",
              " 'ธนาคารแห่งประเทศไทยได้ให้สิทธิ์ยื่นขอสินเชื่อติดต่อ',\n",
              " 'คุณได้รับสิทธิ์ยื่นขอสินเชื่อGSBออมสิน100000บาท',\n",
              " 'สินเชื่อคุณอนุมัติแล้ว',\n",
              " 'คุณได้สินเชื่อประชารัฐกู้ดอกเบี้ยต่ำสู้โควิด คลิกคุณได้รับสิทธิ์ยื่นกู้กับทาง SCB 100000 บาท คลิก',\n",
              " 'คุณได้รับสิทธิ์สินเชื่อเพื่อการลงทุนจากออมสิน GSB คลิกเพื่อตรวจสอบ',\n",
              " 'MyMoออมสินให้คุณยื่นกู้ 10000ใช้สิทธิ์ ติดต่อ',\n",
              " 'ธออมสินท่านได้รับสิทธิ์ยื่นกู้220000ขึ้นไปคลิ๊ก',\n",
              " 'TTB ยินดีด้วย สินเชื่อของคุณอนุมัติแล้ว ถอนเงินได้ทันที',\n",
              " 'ธไทยพาณิชย์ท่านได้รับสิทธิ์ยื่นกู้300000ขึ้นไปคลิ๊ก',\n",
              " 'คุณได้รับสิทธิ์ยื่นกู้กับทาง SCB 100000 บาท คลิก',\n",
              " 'CMBปล่อยกู้ 50000 บาท 100 สิทธิ์ เช็คสิทธิ',\n",
              " 'ธุรกิจสะดุด โฉนดแลกเงินที่สมาร์ทฟินน์ ดอก PERCENTAGE ต่อปี',\n",
              " 'ลงทะเบียนสินเชื่อ ธกส กู้ยืม 300000 บาทคลิ๊ก',\n",
              " 'เงินสำรอง พร้อมโอนเข้าบัญชี คลิก ',\n",
              " 'K PLUS คุณได้รับสินเชื่อ 100000 บาท ติดต่อ ',\n",
              " 'คุณได้รับสิทธิ์ พิเศษจากประวัติการชำระหนี้ของคุณที่ดีกรุณาคลิกที่ลิงค์เพื่อสมัครวงเงิน 300000 บาท',\n",
              " 'คุณได้รับสินเชื่อเงินสด 202000 บาท เพิ่มเติมLine',\n",
              " 'S C B คุณได้รับสินเชื่อ 500000 บาท ติดต่อ',\n",
              " 'GSB คุณได้รับการอนุมัติสินเชื่อสู้ภัย 80000 บาท คลิ๊ก',\n",
              " 'ยินดีด้วยคุณกู้สินเชื่อผ่านแล้ว ตรวจสอบตอนนี้',\n",
              " 'MyMoออมสินให้คุณยื่นกู้สูงสุด 300000 บาท คลิ๊ก',\n",
              " 'KBANK คุณได้รับสิทธิ์ยื่นกู้ 2000000 คลิ๊ก',\n",
              " 'SCB คุณได้รับสิทธิ์ยื่นกู้ 66000 บาท แอดไลน์ ',\n",
              " 'คุณได้รับสิทธิ์ยื่น ขอสินเชื่อจากทาง SCB สูงสุด 100000 บาท คลิ๊ก',\n",
              " 'เงินช่วยเหลือ 2350 ของคุณเข้าแล้ว ',\n",
              " 'เงินด่วนกู้ฉุกเฉิน ระบบOD ธุรกิจทุกขนาดTLine',\n",
              " 'มีปัญหาเรื่องเงินเราช่วยคุณได้เพียงโทรมาที่เบอร์  คุณเอก',\n",
              " 'SCB ยินดีด้วยค่ะ คุณได้สิทธิยื่นกู้50000บาทจากทางเรา คลิ๊ก ',\n",
              " 'CIMB ท่านได้รับสิทธิยื่นกู้สูงสุด 500000 บาท คลิกเพื่อเรียกร้อง ',\n",
              " 'ลงทะเบียนสินเชื่อเพื่อคุณกับ ธกส ตอนนี้ คลิก',\n",
              " 'ลงทะเบียนเพื่อรับสิทธิโครงการคนละครึ่ง รับเลย 5000 บาท ตรวจสอบคลิก ',\n",
              " 'คุณได้รับสินเชื่อจาก ธเกียรตินาคิน 300000 บาท คลิกที่นี่',\n",
              " 'ท่านได้รับทุนสำรองประชารัฐ 3000 บาท คลิก ',\n",
              " 'ท่านได้รับสิทธิ์ยื่นกู้กับทางเรา 24500 บาท คลิ๊ก ',\n",
              " 'วงเงินกู้ของท่านได้รับการอนุมัติแล้ว ตรวจสอบทันที คลิก ',\n",
              " 'ยินดีด้วยค่ะ คุณถูกรางวัลแล้วสามารถรับได้เลย 88000 บาท แอดLine',\n",
              " 'ตัวช่วยเงินด่วนของคนทำกิน สินเชื่อเงินด่วนถูกกฎหมาย กู้ได้ทุกอาชีพ แอดไลน์ ',\n",
              " 'K PLUS คุณได้รับสินเชื่อ 100000 บาท ติดต่อ ',\n",
              " 'KPLUS คุณได้รับสินเชื่อ 240000 บาท ติดต่อ ',\n",
              " 'เงินทุนสำรองประชารัฐ พร้อมโอนเข้าบัญชี คลิก ',\n",
              " 'คุณได้รับการอนุมัติวงเงินจากKBANK จำนวน 100000 บาท คลิก ',\n",
              " 'คุณได้รับการอนุมัติด้วยจำนวน 220000 บ ผ่านทางเรา แอดไลน์ ',\n",
              " 'คุณได้รับสิทธิ์ยื่นกู้ KTB วงเงิน 50000 บาท ',\n",
              " 'คุณถอนเงินสำเร็จแล้ว 29900 บาท ตรวจสอบคลิก ',\n",
              " 'ท่านโอนเงินไปยัง KBANK จำนวน 2000 บาท สำเร็จแล้ว ตรวจสอบคลิก ',\n",
              " 'กดเพื่อรับเงินช่วยเหลือพิเศษจากโครงการประชารัฐ กดรับก่อนสิทธิเต็ม ',\n",
              " 'สินเชื่อที่รวดเร็วอัตราการอนุมัติสูงคลิกที่นี่ ',\n",
              " 'สินเชื่อหมุนเวียนเพื่อธุรกิจ กู้ง่าย ดอกเบี้ยต่ำกว่าธนาคาร แอดเลย ',\n",
              " 'ยินดีด้วยคุณได้รับทุนสำรองดอกเบี้ยต่ำจากทาง ธกส 80000 บาท กดรับก่อนสิทธิ์เต็ม ',\n",
              " 'ข้อความฉุกเฉินจาก KPLUS โปรดอัปเกรดบัญชีธนาคารออนไลน์ของคุณตอนนี้ ',\n",
              " 'อนุมัติง่ายได้รับวงเงินเต็ม 100000 บาท สมัครง่ายไม่ต้องรอ แอดไลน์ ',\n",
              " 'แอป SCB EASY ของคุณเพิ่งลงชื่อเข้าใช้บนโทรศัพท์ SAMSUNG หากคุณยังไม่ได้ทำการลบอุปกรณ์และรีเช็ต PIN ของคุณทันที ',\n",
              " 'เนื่องจากประวัติการชำระหนี้ที่ดีของคุณ กรุณาคลิกที่ลิงค์เพื่อสมัครวงเงินกู้ได้เลย ',\n",
              " 'ยินดีด้วย ท่านได้รับทุนสำรองประชารัฐ5000บาท รีบกดรับก่อนสิทธิเต็ม ',\n",
              " 'ยินดีด้วย คุณได้รับการอนุมัติวงเงินจาก SCB แล้ว คลิกที่นี่เพื่อตรวจสอบ ',\n",
              " 'ตัวช่วยเงินด่วนของคนทำกิน สินเชื่อเพื่อการลงทุน อนุมัติง่ายเร็วกว่าธนาคาร ดอกเบี้ยต่ำ แอดไลน์ ',\n",
              " 'แจ้งเงินช่วยเหลือ 3000 บาท เพื่อรับ ',\n",
              " 'ธนาคารกรุงไทยแจ้งปรับปรุงระบบ โปรดอัปเกรดบัญชีธนาคารออนไลน์ของคุณตอนนี้ ',\n",
              " 'กู้เงินด่วนฉุกเฉิน สูงสุด 300000บ LINE',\n",
              " 'KTC คุณได้รับสินเชื่อ 90000 บาท คลิ๊ก',\n",
              " 'เงินด่วนฉุกเฉินพร้อมใช้ ดอกเบี้ยต่ำคลิ๊ก ',\n",
              " 'คุณได้รับวงเงินกู้100000 บาทจากMyMo ติดต่อ',\n",
              " '1 วงเงินคุณผ่านการอนุมัติแล้ว',\n",
              " 'สำคัญ คุณมีเงินคืน 2999บ ใกล้หมดอายุ กดรับด่วน ',\n",
              " 'วงเงินกู้ของท่านได้รับการอนุมัติแล้ว ตรวจสอบที่นี่ ',\n",
              " 'คุณได้รับสิทธิ์ยื่นกู้ ธ ไทยพาณิชย์ 80000 บาท ',\n",
              " 'คุณคือผู้โชคดีได้รับวงเงินยื่นกู้สินเชื่อเพื่อการลงทุน 300000 บาท รายละเอียดคลิก ',\n",
              " 'ภายใน 30 นาที เงินด่วนได้จริง คลิก ',\n",
              " 'คุณได้รับวงเงินบัตรเครดิต 3000000 บาท เข้าสู่ระบบเพื่อรับสิทธิ์ ',\n",
              " 'ประกาศอัพเกรดธนาคารกรุงเทพ โปรดอัปเกรดเดี๋ยวนี้ ',\n",
              " 'คุณได้รับสินเชื่อ CHU NGERN 800000 ',\n",
              " 'สินเชื่อออมสินSCBกู้ง่ายอนุมัติไว คลิ๊ก ',\n",
              " 'ยินดีด้วย คุณได้รับการอนุมัติด้วยจำนวน 230000 ',\n",
              " 'คุณสามารถกู้ 230000 บาทจากทางเรา คลิ๊ก ',\n",
              " 'เงินด่วนคุยง่ายยื่นได้ไม่จำกัดอาชีพ ดอกเบี้ยต่ำกว่าธนาคาร สนใจแอดไลน์ LINE',\n",
              " 'สินเชื่อเพื่อธุรกิจSME สมัครง่าย ไม่ต้องมีคนค้ำ อนุมัติง่ายเร็วกว่าธนาคาร ติดต่อ',\n",
              " 'ท่านได้รับสิทธิ์ยื่นกู้กับทางเราในวงเงินสูงสุด 2000000 บาท คลิ๊ก ',\n",
              " 'คุณได้รับเงินกู้ 500000 เข้าสู่ระบบเพื่อรับเงินค่ะ    ',\n",
              " 'ขอแสดงความยินดีท่านได้รับวงเงินกู้ยืม87500 ',\n",
              " 'คุณสามารถกู้ 124000 บาทจากทางเรา คลิ๊กID LINE',\n",
              " 'รับเงินช่วยเหลือ 1000 บาท ',\n",
              " 'สวัสดีลูกค้า SCB การยืนยันการอัปเกรดธนาคารออนไลน์ทางออนไลน์โปรดดำเนินการให้เสร็จโดยเร็ว ',\n",
              " 'ธนาคารกรุงไทยแจ้งการอัปเกรดโปรดอัปเกรดทันที ',\n",
              " 'สวัสดีลูกค้า KBANK โปรดป้อนรหัสผ่านและรหัสยืนยันที่ถูกต้องเพื่ออัปเกรดบัญชี ',\n",
              " 'SCB เตือนอุปกรณ์ระบบผิดปกติโปรดยืนยันตัวตน ',\n",
              " 'KBANK เตือนอุปกรณ์ระบบผิดปกติโปรดยืนยันตัวตน ',\n",
              " 'ยินดีด้วยค่ะ คุณได้รับ 200000 ',\n",
              " 'ประกาศอัปเกรดจากธนาคารออมสิน โปรดอัปเดตทันที ',\n",
              " 'ธกส สามารถยื่นได้143000 บาท หากสนใจคลิ๊ก ',\n",
              " 'ธนาคารอนุมัติวงเงินของคุณแล้ว ติดต่อ',\n",
              " 'ธนาคารอนุมัติวงเงินของคุณแล้ว ติดต่อ',\n",
              " 'ธนาคารอนุมัติวงเงินให้คุณแล้ว ติดต่อ',\n",
              " 'อนุมัติสินเชื่อใน24ชมกรุณากดคลิกเพื่อรับสิทธิ์ ',\n",
              " 'คุณถอนเงินสำเร็จแล้ว 1000 บาท ',\n",
              " 'เครดิตของคุณดีและคุณมีสิทธิ์ได้รับ 300000 ',\n",
              " 'เงินเดือน 1000 บาท โอนเข้าบัญชีเรียบร้อย ']"
            ]
          },
          "metadata": {},
          "execution_count": 12
        }
      ]
    },
    {
      "cell_type": "markdown",
      "source": [
        "Tokenization"
      ],
      "metadata": {
        "id": "trNRmZYp1uRv"
      }
    },
    {
      "cell_type": "code",
      "source": [
        "!pip install pythainlp"
      ],
      "metadata": {
        "colab": {
          "base_uri": "https://localhost:8080/"
        },
        "id": "I7cbAm421VLJ",
        "outputId": "80fd1a38-3ae6-4bef-bfe2-e9f9853caf2f"
      },
      "execution_count": 13,
      "outputs": [
        {
          "output_type": "stream",
          "name": "stdout",
          "text": [
            "Looking in indexes: https://pypi.org/simple, https://us-python.pkg.dev/colab-wheels/public/simple/\n",
            "Collecting pythainlp\n",
            "  Downloading pythainlp-3.1.1-py3-none-any.whl (9.6 MB)\n",
            "\u001b[2K     \u001b[90m━━━━━━━━━━━━━━━━━━━━━━━━━━━━━━━━━━━━━━━━\u001b[0m \u001b[32m9.6/9.6 MB\u001b[0m \u001b[31m65.4 MB/s\u001b[0m eta \u001b[36m0:00:00\u001b[0m\n",
            "\u001b[?25hRequirement already satisfied: requests>=2.22.0 in /usr/local/lib/python3.8/dist-packages (from pythainlp) (2.25.1)\n",
            "Requirement already satisfied: certifi>=2017.4.17 in /usr/local/lib/python3.8/dist-packages (from requests>=2.22.0->pythainlp) (2022.12.7)\n",
            "Requirement already satisfied: idna<3,>=2.5 in /usr/local/lib/python3.8/dist-packages (from requests>=2.22.0->pythainlp) (2.10)\n",
            "Requirement already satisfied: urllib3<1.27,>=1.21.1 in /usr/local/lib/python3.8/dist-packages (from requests>=2.22.0->pythainlp) (1.26.14)\n",
            "Requirement already satisfied: chardet<5,>=3.0.2 in /usr/local/lib/python3.8/dist-packages (from requests>=2.22.0->pythainlp) (4.0.0)\n",
            "Installing collected packages: pythainlp\n",
            "Successfully installed pythainlp-3.1.1\n"
          ]
        }
      ]
    },
    {
      "cell_type": "code",
      "source": [
        "import pythainlp\n",
        "from pythainlp import tokenize\n",
        "from pythainlp.corpus.common import thai_words\n",
        "from pythainlp.util import dict_trie\n",
        "import string"
      ],
      "metadata": {
        "id": "Mq_RVJPJ1tp5"
      },
      "execution_count": 14,
      "outputs": []
    },
    {
      "cell_type": "code",
      "source": [
        "# tokenize the text data\n",
        "tokens = [tokenize.word_tokenize(x) for x in c_sms]"
      ],
      "metadata": {
        "id": "sjlhHeEi1yvf"
      },
      "execution_count": 15,
      "outputs": []
    },
    {
      "cell_type": "code",
      "source": [
        "dictTH = set(thai_words())\n",
        "#dictTH.add('โครงการประชารัฐ')\n",
        "dictTH.add('โครงการ')\n",
        "dictTH.add('ประชารัฐ')\n",
        "dictTH.add('ยูส')\n",
        "dictTH.add('คลิ๊ก')\n",
        "dictTH.add('ไทยพาณิชย์')\n",
        "#dictTH.add('โครงการธนาคารประชาชน')\n",
        "#dictTH.add('โครงการธนาคารเพื่อประชาชน')\n",
        "#dictTH.add('โครงการเราชนะ')\n",
        "dictTH.add('เราชนะ')\n",
        "dictTH.add('ธนาคารประชาชน')\n",
        "dictTH.add('ธนาคารเพื่อประชาชน')\n",
        "dictTH.add('เกียรตินาคิน')\n",
        "dictTH.add('Paotang')\n",
        "dictTH.add('การดำเนินการ')\n",
        "dictTH.add('ซิงเกอร์')\n",
        "dictTH.add('เบราเซอร์')\n",
        "dictTH.add('โครงการ')\n",
        "dictTH.add('สิท')\n",
        "dictTH.add('เคร')\n",
        "dictTH.add('เทอโบ')\n",
        "dictTH.add('ผดุงพงษ์')\n",
        "dictTH.add('คุน')\n",
        "dictTH.add('nู้')\n",
        "dictTH.add('เพื่v')\n",
        "dictTH.add('รัu')\n",
        "dictTH.add('iลย')\n",
        "dictTH.add('iหลือ')\n",
        "dictTH.add('คนละครึ่ง')\n",
        "dictTH.add('รีเช็ต')\n",
        "dictTH.add('ไทยประกันชีวิต')\n",
        "dictTH.add('ธกส')\n",
        "dictTH.add('เป๋าตัง')\n",
        "dictTH.add('สิริวรรณ')\n",
        "dictTH.add('ปุ๊กสันเทียะ')\n",
        "dictTH.add('ชนิกานต์')\n",
        "dictTH.add('ลือดารา')\n",
        "dictTH.add('โสภิตา')\n",
        "dictTH.add('สมคิด')\n",
        "dictTH.add('ถนอมวำ')\n",
        "dictTH.add('มีเหรียญ')\n",
        "dictTH.add('มนัสชนก')\n",
        "dictTH.add('เสนาชัย')\n",
        "dictTH.add('ยิ่งยืน')\n",
        "dictTH.add('อรุณกมล')\n",
        "dictTH.add('โรจนจิรพันธ์')\n",
        "dictTH.add('สุชาติ')\n",
        "dictTH.add('ดีการนา')\n",
        "dictTH.add('ชัชวาลย์')\n",
        "dictTH.add('จันทร์หอม')\n",
        "dictTH.add('เทอร์โบมันนี่')\n",
        "dictTH.add('กสิกรไทย')\n",
        "dictTH.add('set')\n",
        "dictTH.add('free')\n",
        "dictTH.add('sms')\n",
        "dictTH.add('ชัช')\n",
        "dictTH.add('กด')\n",
        "dictTH.add('โคตา')\n",
        "dictTH.add('โคต้า')\n",
        "dictTH.add('โทร')\n",
        "dictTH.add('นินันย์')\n",
        "dictTH.add('ปรึงปี่')\n",
        "dictTH.add('เซอร์ไฟรส์')\n",
        "dictTH.add('แอป')\n",
        "dictTH.add('COVID19')\n",
        "dictTH.add('คลี้ก')\n",
        "dictTH.add('MyMo')\n",
        "dictTH.add('GS8')\n",
        "dictTH.add('ปัญญาเบิง')\n",
        "dictTH.add('ตัวตน')\n",
        "dictTH = dict_trie(dict_source=dictTH)\n",
        "\n",
        "tokens = [tokenize.word_tokenize(x, custom_dict=dictTH, keep_whitespace=False) for x in c_sms]\n",
        "#tokens"
      ],
      "metadata": {
        "id": "KNCfIHbDTZyI"
      },
      "execution_count": 16,
      "outputs": []
    },
    {
      "cell_type": "code",
      "source": [
        "# Load มาดูที่ token แล้ว"
      ],
      "metadata": {
        "id": "NdEX1f68SalG"
      },
      "execution_count": 17,
      "outputs": []
    },
    {
      "cell_type": "code",
      "source": [
        "print(tokens[:5])"
      ],
      "metadata": {
        "colab": {
          "base_uri": "https://localhost:8080/"
        },
        "id": "hxdNYG6vTnqN",
        "outputId": "d0b08cf2-3f03-431f-dd19-dd6f70041f80"
      },
      "execution_count": 18,
      "outputs": [
        {
          "output_type": "stream",
          "name": "stdout",
          "text": [
            "[['คุณ', 'ได้รับ', 'สิทธิ์', 'ยื่น', 'ขอ', 'GSB', 'ออมสิน', '60000', 'คลิ๊ก'], ['คุณ', 'ได้รับ', 'เงินช่วยเหลือ', '24500', 'สมัคร', 'เพื่อ', 'รับ'], ['ดอกเบี้ย', 'เฉลี่ย', '10000', 'ละ', '35', 'บาท', 'ต่อ', 'วัน', 'ท'], ['ยื่น', 'ขอ', 'สินเชื่อ', 'GSB', 'ออมสิน', '60000', 'คลิ๊ก'], ['คุณ', 'ได้', 'สินเชื่อ', 'ประชารัฐ', 'กู้', 'ดอกเบี้ย', 'ต่ำ', 'สู้', 'ภัย', 'โควิด', 'คลิก']]\n"
          ]
        }
      ]
    },
    {
      "cell_type": "code",
      "source": [
        "# เพิ่มตัวจบประโยค (END)\n",
        "for i in range(len(tokens)):\n",
        "  tokens[i].append('END')\n",
        "\n",
        "print(tokens[:5])"
      ],
      "metadata": {
        "colab": {
          "base_uri": "https://localhost:8080/"
        },
        "id": "tKZ_E4d9emPA",
        "outputId": "d87a0c3c-7dce-4ba3-c1fd-4f601d26472b"
      },
      "execution_count": 19,
      "outputs": [
        {
          "output_type": "stream",
          "name": "stdout",
          "text": [
            "[['คุณ', 'ได้รับ', 'สิทธิ์', 'ยื่น', 'ขอ', 'GSB', 'ออมสิน', '60000', 'คลิ๊ก', 'END'], ['คุณ', 'ได้รับ', 'เงินช่วยเหลือ', '24500', 'สมัคร', 'เพื่อ', 'รับ', 'END'], ['ดอกเบี้ย', 'เฉลี่ย', '10000', 'ละ', '35', 'บาท', 'ต่อ', 'วัน', 'ท', 'END'], ['ยื่น', 'ขอ', 'สินเชื่อ', 'GSB', 'ออมสิน', '60000', 'คลิ๊ก', 'END'], ['คุณ', 'ได้', 'สินเชื่อ', 'ประชารัฐ', 'กู้', 'ดอกเบี้ย', 'ต่ำ', 'สู้', 'ภัย', 'โควิด', 'คลิก', 'END']]\n"
          ]
        }
      ]
    },
    {
      "cell_type": "code",
      "source": [
        "processed_sentence = []\n",
        "for i in range(len(tokens)):\n",
        "  sentence = \" \".join(tokens[i])\n",
        "  processed_sentence.append(sentence)\n",
        "\n",
        "print(len(processed_sentence))\n",
        "print(processed_sentence[:5])"
      ],
      "metadata": {
        "colab": {
          "base_uri": "https://localhost:8080/"
        },
        "id": "CURdOGGqQF2P",
        "outputId": "375a6822-6e4b-4521-8e7b-59059941bc7c"
      },
      "execution_count": 20,
      "outputs": [
        {
          "output_type": "stream",
          "name": "stdout",
          "text": [
            "1006\n",
            "['คุณ ได้รับ สิทธิ์ ยื่น ขอ GSB ออมสิน 60000 คลิ๊ก END', 'คุณ ได้รับ เงินช่วยเหลือ 24500 สมัคร เพื่อ รับ END', 'ดอกเบี้ย เฉลี่ย 10000 ละ 35 บาท ต่อ วัน ท END', 'ยื่น ขอ สินเชื่อ GSB ออมสิน 60000 คลิ๊ก END', 'คุณ ได้ สินเชื่อ ประชารัฐ กู้ ดอกเบี้ย ต่ำ สู้ ภัย โควิด คลิก END']\n"
          ]
        }
      ]
    },
    {
      "cell_type": "code",
      "source": [
        "tokenizer = Tokenizer(lower=False)\n",
        "\n",
        "def get_sequence_of_tokens(corpus):\n",
        "    ## tokenization\n",
        "    tokenizer.fit_on_texts(corpus)\n",
        "    \"\"\"\n",
        "    the greatest token ID in word_index is len(word_index). Therefore, \n",
        "    we need vocabulary of size len(word_index) + 1 to be able to index up to the greatest token ID.\n",
        "    \"\"\"\n",
        "    # https://datascience.stackexchange.com/questions/93651/reason-for-adding-1-to-word-index-for-sequence-modeling\n",
        "    total_words = len(tokenizer.word_index) + 1 # 736\n",
        "    \n",
        "\n",
        "    ## convert data to sequence of tokens \n",
        "    input_sequences = []\n",
        "    for line in corpus:\n",
        "        token_list = tokenizer.texts_to_sequences([line])[0]\n",
        "        for i in range(1, len(token_list)):\n",
        "            n_gram_sequence = token_list[:i+1]\n",
        "            input_sequences.append(n_gram_sequence)\n",
        "    return input_sequences, total_words"
      ],
      "metadata": {
        "id": "9cRpvOYBPyFt"
      },
      "execution_count": 21,
      "outputs": []
    },
    {
      "cell_type": "code",
      "source": [
        "inp_sequences, total_words = get_sequence_of_tokens(processed_sentence)\n",
        "inp_sequences[:10]"
      ],
      "metadata": {
        "colab": {
          "base_uri": "https://localhost:8080/"
        },
        "id": "1yd0hhz1QoGc",
        "outputId": "fdb402e7-b5aa-42b0-c12f-6f99c34a1e60"
      },
      "execution_count": 22,
      "outputs": [
        {
          "output_type": "execute_result",
          "data": {
            "text/plain": [
              "[[2, 3],\n",
              " [2, 3, 5],\n",
              " [2, 3, 5, 8],\n",
              " [2, 3, 5, 8, 55],\n",
              " [2, 3, 5, 8, 55, 49],\n",
              " [2, 3, 5, 8, 55, 49, 39],\n",
              " [2, 3, 5, 8, 55, 49, 39, 96],\n",
              " [2, 3, 5, 8, 55, 49, 39, 96, 9],\n",
              " [2, 3, 5, 8, 55, 49, 39, 96, 9, 1],\n",
              " [2, 3]]"
            ]
          },
          "metadata": {},
          "execution_count": 22
        }
      ]
    },
    {
      "cell_type": "code",
      "source": [
        "tokenizer.sequences_to_texts(inp_sequences[:10])"
      ],
      "metadata": {
        "colab": {
          "base_uri": "https://localhost:8080/"
        },
        "id": "KpiC4SKhQsIz",
        "outputId": "5803db98-9b13-46f6-ad48-ae0982550975"
      },
      "execution_count": 23,
      "outputs": [
        {
          "output_type": "execute_result",
          "data": {
            "text/plain": [
              "['คุณ ได้รับ',\n",
              " 'คุณ ได้รับ สิทธิ์',\n",
              " 'คุณ ได้รับ สิทธิ์ ยื่น',\n",
              " 'คุณ ได้รับ สิทธิ์ ยื่น ขอ',\n",
              " 'คุณ ได้รับ สิทธิ์ ยื่น ขอ GSB',\n",
              " 'คุณ ได้รับ สิทธิ์ ยื่น ขอ GSB ออมสิน',\n",
              " 'คุณ ได้รับ สิทธิ์ ยื่น ขอ GSB ออมสิน 60000',\n",
              " 'คุณ ได้รับ สิทธิ์ ยื่น ขอ GSB ออมสิน 60000 คลิ๊ก',\n",
              " 'คุณ ได้รับ สิทธิ์ ยื่น ขอ GSB ออมสิน 60000 คลิ๊ก END',\n",
              " 'คุณ ได้รับ']"
            ]
          },
          "metadata": {},
          "execution_count": 23
        }
      ]
    },
    {
      "cell_type": "code",
      "source": [
        "total_words"
      ],
      "metadata": {
        "colab": {
          "base_uri": "https://localhost:8080/"
        },
        "id": "54aDtlG0FDtY",
        "outputId": "51d3caff-cad3-4a6c-d964-ea819129c13b"
      },
      "execution_count": 24,
      "outputs": [
        {
          "output_type": "execute_result",
          "data": {
            "text/plain": [
              "736"
            ]
          },
          "metadata": {},
          "execution_count": 24
        }
      ]
    },
    {
      "cell_type": "code",
      "source": [
        "def generate_padded_sequences(input_sequences):\n",
        "    max_sequence_len = max([len(x) for x in input_sequences])\n",
        "    input_sequences = np.array(pad_sequences(input_sequences, maxlen=max_sequence_len, padding='pre'))\n",
        "    \n",
        "    predictors = input_sequences[:,:-1] # as X\n",
        "    label = input_sequences[:,-1] # as y\n",
        "    label = tf.keras.utils.to_categorical(label, num_classes=total_words) # one-hot encoded using the to_categorical function\n",
        "    return predictors, label, max_sequence_len\n",
        "\n",
        "predictors, label, max_sequence_len = generate_padded_sequences(inp_sequences)"
      ],
      "metadata": {
        "id": "L4eS0eEl8q9e"
      },
      "execution_count": 25,
      "outputs": []
    },
    {
      "cell_type": "code",
      "source": [
        "print(\"Max sequence = \", max_sequence_len)"
      ],
      "metadata": {
        "colab": {
          "base_uri": "https://localhost:8080/"
        },
        "id": "cwa255xQA4Rj",
        "outputId": "43f0b9fe-9971-4b09-960a-72c0db7eba0a"
      },
      "execution_count": 26,
      "outputs": [
        {
          "output_type": "stream",
          "name": "stdout",
          "text": [
            "Max sequence =  47\n"
          ]
        }
      ]
    },
    {
      "cell_type": "code",
      "source": [
        "print(predictors[0])\n",
        "print(label[0])\n",
        "print(\"predictors.shape:\", predictors.shape)\n",
        "print(\"label.shape\", label.shape)"
      ],
      "metadata": {
        "colab": {
          "base_uri": "https://localhost:8080/"
        },
        "id": "TBJWvownX7Re",
        "outputId": "6a6712f5-b7ee-4974-9d51-05177e43f6c1"
      },
      "execution_count": 27,
      "outputs": [
        {
          "output_type": "stream",
          "name": "stdout",
          "text": [
            "[0 0 0 0 0 0 0 0 0 0 0 0 0 0 0 0 0 0 0 0 0 0 0 0 0 0 0 0 0 0 0 0 0 0 0 0 0\n",
            " 0 0 0 0 0 0 0 0 2]\n",
            "[0. 0. 0. 1. 0. 0. 0. 0. 0. 0. 0. 0. 0. 0. 0. 0. 0. 0. 0. 0. 0. 0. 0. 0.\n",
            " 0. 0. 0. 0. 0. 0. 0. 0. 0. 0. 0. 0. 0. 0. 0. 0. 0. 0. 0. 0. 0. 0. 0. 0.\n",
            " 0. 0. 0. 0. 0. 0. 0. 0. 0. 0. 0. 0. 0. 0. 0. 0. 0. 0. 0. 0. 0. 0. 0. 0.\n",
            " 0. 0. 0. 0. 0. 0. 0. 0. 0. 0. 0. 0. 0. 0. 0. 0. 0. 0. 0. 0. 0. 0. 0. 0.\n",
            " 0. 0. 0. 0. 0. 0. 0. 0. 0. 0. 0. 0. 0. 0. 0. 0. 0. 0. 0. 0. 0. 0. 0. 0.\n",
            " 0. 0. 0. 0. 0. 0. 0. 0. 0. 0. 0. 0. 0. 0. 0. 0. 0. 0. 0. 0. 0. 0. 0. 0.\n",
            " 0. 0. 0. 0. 0. 0. 0. 0. 0. 0. 0. 0. 0. 0. 0. 0. 0. 0. 0. 0. 0. 0. 0. 0.\n",
            " 0. 0. 0. 0. 0. 0. 0. 0. 0. 0. 0. 0. 0. 0. 0. 0. 0. 0. 0. 0. 0. 0. 0. 0.\n",
            " 0. 0. 0. 0. 0. 0. 0. 0. 0. 0. 0. 0. 0. 0. 0. 0. 0. 0. 0. 0. 0. 0. 0. 0.\n",
            " 0. 0. 0. 0. 0. 0. 0. 0. 0. 0. 0. 0. 0. 0. 0. 0. 0. 0. 0. 0. 0. 0. 0. 0.\n",
            " 0. 0. 0. 0. 0. 0. 0. 0. 0. 0. 0. 0. 0. 0. 0. 0. 0. 0. 0. 0. 0. 0. 0. 0.\n",
            " 0. 0. 0. 0. 0. 0. 0. 0. 0. 0. 0. 0. 0. 0. 0. 0. 0. 0. 0. 0. 0. 0. 0. 0.\n",
            " 0. 0. 0. 0. 0. 0. 0. 0. 0. 0. 0. 0. 0. 0. 0. 0. 0. 0. 0. 0. 0. 0. 0. 0.\n",
            " 0. 0. 0. 0. 0. 0. 0. 0. 0. 0. 0. 0. 0. 0. 0. 0. 0. 0. 0. 0. 0. 0. 0. 0.\n",
            " 0. 0. 0. 0. 0. 0. 0. 0. 0. 0. 0. 0. 0. 0. 0. 0. 0. 0. 0. 0. 0. 0. 0. 0.\n",
            " 0. 0. 0. 0. 0. 0. 0. 0. 0. 0. 0. 0. 0. 0. 0. 0. 0. 0. 0. 0. 0. 0. 0. 0.\n",
            " 0. 0. 0. 0. 0. 0. 0. 0. 0. 0. 0. 0. 0. 0. 0. 0. 0. 0. 0. 0. 0. 0. 0. 0.\n",
            " 0. 0. 0. 0. 0. 0. 0. 0. 0. 0. 0. 0. 0. 0. 0. 0. 0. 0. 0. 0. 0. 0. 0. 0.\n",
            " 0. 0. 0. 0. 0. 0. 0. 0. 0. 0. 0. 0. 0. 0. 0. 0. 0. 0. 0. 0. 0. 0. 0. 0.\n",
            " 0. 0. 0. 0. 0. 0. 0. 0. 0. 0. 0. 0. 0. 0. 0. 0. 0. 0. 0. 0. 0. 0. 0. 0.\n",
            " 0. 0. 0. 0. 0. 0. 0. 0. 0. 0. 0. 0. 0. 0. 0. 0. 0. 0. 0. 0. 0. 0. 0. 0.\n",
            " 0. 0. 0. 0. 0. 0. 0. 0. 0. 0. 0. 0. 0. 0. 0. 0. 0. 0. 0. 0. 0. 0. 0. 0.\n",
            " 0. 0. 0. 0. 0. 0. 0. 0. 0. 0. 0. 0. 0. 0. 0. 0. 0. 0. 0. 0. 0. 0. 0. 0.\n",
            " 0. 0. 0. 0. 0. 0. 0. 0. 0. 0. 0. 0. 0. 0. 0. 0. 0. 0. 0. 0. 0. 0. 0. 0.\n",
            " 0. 0. 0. 0. 0. 0. 0. 0. 0. 0. 0. 0. 0. 0. 0. 0. 0. 0. 0. 0. 0. 0. 0. 0.\n",
            " 0. 0. 0. 0. 0. 0. 0. 0. 0. 0. 0. 0. 0. 0. 0. 0. 0. 0. 0. 0. 0. 0. 0. 0.\n",
            " 0. 0. 0. 0. 0. 0. 0. 0. 0. 0. 0. 0. 0. 0. 0. 0. 0. 0. 0. 0. 0. 0. 0. 0.\n",
            " 0. 0. 0. 0. 0. 0. 0. 0. 0. 0. 0. 0. 0. 0. 0. 0. 0. 0. 0. 0. 0. 0. 0. 0.\n",
            " 0. 0. 0. 0. 0. 0. 0. 0. 0. 0. 0. 0. 0. 0. 0. 0. 0. 0. 0. 0. 0. 0. 0. 0.\n",
            " 0. 0. 0. 0. 0. 0. 0. 0. 0. 0. 0. 0. 0. 0. 0. 0. 0. 0. 0. 0. 0. 0. 0. 0.\n",
            " 0. 0. 0. 0. 0. 0. 0. 0. 0. 0. 0. 0. 0. 0. 0. 0.]\n",
            "predictors.shape: (9614, 46)\n",
            "label.shape (9614, 736)\n"
          ]
        }
      ]
    },
    {
      "cell_type": "markdown",
      "source": [
        "# Model"
      ],
      "metadata": {
        "id": "wW5eEICyZ62m"
      }
    },
    {
      "cell_type": "code",
      "source": [
        "# underfit or overfit \n",
        "# underfit\n",
        "# (1) more GRU layers\n",
        "# (2) more neurons per layer\n",
        "# (3) train longer \n",
        "# (4) adjust an input pattern that longer than n_steps\n",
        "# (5) use stateful RNN to handle very long sequences\n",
        "# overfit\n",
        "# (1) add some regularization\n",
        "# (2) add dropout with more dropout rate"
      ],
      "metadata": {
        "id": "TDjooHgVSCsL"
      },
      "execution_count": null,
      "outputs": []
    },
    {
      "cell_type": "code",
      "source": [
        "def create_model(max_sequence_len, total_words):\n",
        "    input_len = max_sequence_len - 1 \n",
        "    # using 1 less value because we are preserving the last value for predicted word\n",
        "    \n",
        "    model = Sequential()\n",
        "    \n",
        "    # word embedding -> เกิดจากการแปลงจาก one-hot เป็น vector\n",
        "    # mask zero = tell model to skip processing (ignore 0) these inputs\n",
        "    model.add(Embedding(total_words, output_dim=128,\n",
        "                        input_length=input_len, mask_zero=True))\n",
        "    \n",
        "    model.add(LSTM(1024))\n",
        "    model.add(Dropout(0.3))\n",
        "\n",
        "    model.add(Dense(total_words, activation='softmax'))\n",
        "    return model\n"
      ],
      "metadata": {
        "id": "tiGvMyacCUaI"
      },
      "execution_count": 28,
      "outputs": []
    },
    {
      "cell_type": "code",
      "source": [
        "model = create_model(max_sequence_len, total_words)\n",
        "model.summary()"
      ],
      "metadata": {
        "colab": {
          "base_uri": "https://localhost:8080/"
        },
        "id": "_2wo0EL-U3aR",
        "outputId": "32071469-877d-4742-968c-9feec01ed168"
      },
      "execution_count": 29,
      "outputs": [
        {
          "output_type": "stream",
          "name": "stdout",
          "text": [
            "Model: \"sequential\"\n",
            "_________________________________________________________________\n",
            " Layer (type)                Output Shape              Param #   \n",
            "=================================================================\n",
            " embedding (Embedding)       (None, 46, 128)           94208     \n",
            "                                                                 \n",
            " lstm (LSTM)                 (None, 1024)              4722688   \n",
            "                                                                 \n",
            " dropout (Dropout)           (None, 1024)              0         \n",
            "                                                                 \n",
            " dense (Dense)               (None, 736)               754400    \n",
            "                                                                 \n",
            "=================================================================\n",
            "Total params: 5,571,296\n",
            "Trainable params: 5,571,296\n",
            "Non-trainable params: 0\n",
            "_________________________________________________________________\n"
          ]
        }
      ]
    },
    {
      "cell_type": "code",
      "source": [
        "tf.keras.utils.plot_model(model, show_shapes=True)"
      ],
      "metadata": {
        "colab": {
          "base_uri": "https://localhost:8080/",
          "height": 533
        },
        "id": "bGQoV6NlGT4-",
        "outputId": "70cc72cb-a5e1-4c62-833e-232df42603e3"
      },
      "execution_count": 30,
      "outputs": [
        {
          "output_type": "execute_result",
          "data": {
            "image/png": "[encoded data removed]",
            "text/plain": [
              "<IPython.core.display.Image object>"
            ]
          },
          "metadata": {},
          "execution_count": 30
        }
      ]
    },
    {
      "cell_type": "code",
      "source": [
        "model.compile(loss='categorical_crossentropy', optimizer='adam')"
      ],
      "metadata": {
        "id": "RfHR1hR1IznW"
      },
      "execution_count": 31,
      "outputs": []
    },
    {
      "cell_type": "markdown",
      "source": [
        "Model-Type - When training a GAN model, the accuracy change would be low(maximum cases) and an epoch run will consume good amount of GPU. In such cases its better to save checkpoint files after specific number of epochs with a low value of patience. And then use checkpoints to further improve as required. Analyse similarly for other model types."
      ],
      "metadata": {
        "id": "U0oDaDJaqPlP"
      }
    },
    {
      "cell_type": "code",
      "source": [
        "early_stopping = tf.keras.callbacks.EarlyStopping(monitor='loss', patience=5)\n",
        "\n",
        "model.fit(predictors, label, epochs=500, verbose=1, callbacks=[early_stopping])"
      ],
      "metadata": {
        "colab": {
          "base_uri": "https://localhost:8080/"
        },
        "id": "fGDvJDGVGa0_",
        "outputId": "29c7b3ce-5e68-4462-cc31-4b9389946490"
      },
      "execution_count": 32,
      "outputs": [
        {
          "output_type": "stream",
          "name": "stdout",
          "text": [
            "Epoch 1/500\n",
            "301/301 [==============================] - 57s 161ms/step - loss: 4.7284\n",
            "Epoch 2/500\n",
            "301/301 [==============================] - 39s 128ms/step - loss: 3.6090\n",
            "Epoch 3/500\n",
            "301/301 [==============================] - 38s 126ms/step - loss: 2.8626\n",
            "Epoch 4/500\n",
            "301/301 [==============================] - 37s 124ms/step - loss: 2.2363\n",
            "Epoch 5/500\n",
            "301/301 [==============================] - 38s 125ms/step - loss: 1.7372\n",
            "Epoch 6/500\n",
            "301/301 [==============================] - 37s 123ms/step - loss: 1.3536\n",
            "Epoch 7/500\n",
            "301/301 [==============================] - 38s 125ms/step - loss: 1.0897\n",
            "Epoch 8/500\n",
            "301/301 [==============================] - 37s 124ms/step - loss: 0.8995\n",
            "Epoch 9/500\n",
            "301/301 [==============================] - 38s 126ms/step - loss: 0.7666\n",
            "Epoch 10/500\n",
            "301/301 [==============================] - 37s 124ms/step - loss: 0.6804\n",
            "Epoch 11/500\n",
            "301/301 [==============================] - 37s 124ms/step - loss: 0.6266\n",
            "Epoch 12/500\n",
            "301/301 [==============================] - 37s 123ms/step - loss: 0.5860\n",
            "Epoch 13/500\n",
            "301/301 [==============================] - 37s 123ms/step - loss: 0.5606\n",
            "Epoch 14/500\n",
            "301/301 [==============================] - 38s 125ms/step - loss: 0.5429\n",
            "Epoch 15/500\n",
            "301/301 [==============================] - 38s 126ms/step - loss: 0.5207\n",
            "Epoch 16/500\n",
            "301/301 [==============================] - 37s 124ms/step - loss: 0.5075\n",
            "Epoch 17/500\n",
            "301/301 [==============================] - 38s 125ms/step - loss: 0.4989\n",
            "Epoch 18/500\n",
            "301/301 [==============================] - 38s 126ms/step - loss: 0.4949\n",
            "Epoch 19/500\n",
            "301/301 [==============================] - 37s 122ms/step - loss: 0.4947\n",
            "Epoch 20/500\n",
            "301/301 [==============================] - 38s 124ms/step - loss: 0.4936\n",
            "Epoch 21/500\n",
            "301/301 [==============================] - 38s 125ms/step - loss: 0.4874\n",
            "Epoch 22/500\n",
            "301/301 [==============================] - 39s 128ms/step - loss: 0.4723\n",
            "Epoch 23/500\n",
            "301/301 [==============================] - 38s 125ms/step - loss: 0.4605\n",
            "Epoch 24/500\n",
            "301/301 [==============================] - 38s 126ms/step - loss: 0.4708\n",
            "Epoch 25/500\n",
            "301/301 [==============================] - 38s 125ms/step - loss: 0.4648\n",
            "Epoch 26/500\n",
            "301/301 [==============================] - 37s 124ms/step - loss: 0.4507\n",
            "Epoch 27/500\n",
            "301/301 [==============================] - 37s 121ms/step - loss: 0.4423\n",
            "Epoch 28/500\n",
            "301/301 [==============================] - 37s 125ms/step - loss: 0.4421\n",
            "Epoch 29/500\n",
            "301/301 [==============================] - 37s 124ms/step - loss: 0.4309\n",
            "Epoch 30/500\n",
            "301/301 [==============================] - 38s 125ms/step - loss: 0.4458\n",
            "Epoch 31/500\n",
            "301/301 [==============================] - 38s 125ms/step - loss: 0.4408\n",
            "Epoch 32/500\n",
            "301/301 [==============================] - 37s 124ms/step - loss: 0.4461\n",
            "Epoch 33/500\n",
            "301/301 [==============================] - 37s 124ms/step - loss: 0.4288\n",
            "Epoch 34/500\n",
            "301/301 [==============================] - 37s 124ms/step - loss: 0.4326\n",
            "Epoch 35/500\n",
            "301/301 [==============================] - 37s 124ms/step - loss: 0.4629\n",
            "Epoch 36/500\n",
            "301/301 [==============================] - 37s 123ms/step - loss: 0.4724\n",
            "Epoch 37/500\n",
            "301/301 [==============================] - 37s 124ms/step - loss: 0.4413\n",
            "Epoch 38/500\n",
            "301/301 [==============================] - 37s 124ms/step - loss: 0.4297\n"
          ]
        },
        {
          "output_type": "execute_result",
          "data": {
            "text/plain": [
              "<keras.callbacks.History at 0x7f6a5204f820>"
            ]
          },
          "metadata": {},
          "execution_count": 32
        }
      ]
    },
    {
      "cell_type": "code",
      "source": [
        "def generate_text(text, model, max_sequence_len):\n",
        "    seed_text = \" \".join(tokenize.word_tokenize(text))\n",
        "    counter = 0\n",
        "    while counter < 100:\n",
        "        token_list = tokenizer.texts_to_sequences([seed_text])[0]\n",
        "        token_list = pad_sequences([token_list], maxlen=max_sequence_len-1, padding='pre')\n",
        "        predicted = model.predict(token_list, verbose=0)\n",
        "        predicted = np.random.choice(np.arange(0, predicted.shape[1]), p=predicted[0])\n",
        "\n",
        "        output_word = \"\"\n",
        "        for word, index in tokenizer.word_index.items():\n",
        "            if index == predicted:\n",
        "                output_word = word\n",
        "                break\n",
        "        if output_word == \"PERCENTAGE\":\n",
        "          p = str(random.randint(1, 10))\n",
        "          output_word = p + \"%\"\n",
        "        seed_text += \" \"+output_word\n",
        "\n",
        "        if output_word == \"END\":\n",
        "          joined_text = \"\".join(seed_text.split(\" \")[:-1])\n",
        "          return joined_text\n",
        "        counter += 1\n",
        "    return seed_text"
      ],
      "metadata": {
        "id": "f1LKVYi_J4zx"
      },
      "execution_count": 33,
      "outputs": []
    },
    {
      "cell_type": "code",
      "source": [
        "test_text = \"คุณได้\"\n",
        "print(generate_text(test_text, model, max_sequence_len))"
      ],
      "metadata": {
        "colab": {
          "base_uri": "https://localhost:8080/"
        },
        "id": "aFeaW9VVKw0_",
        "outputId": "03a704b2-6366-443d-80c3-7347e5705ed5"
      },
      "execution_count": 34,
      "outputs": [
        {
          "output_type": "stream",
          "name": "stdout",
          "text": [
            "คุณได้สินเชื่อประชารัฐคุณยื่นกู้100000บาทคลิ๊ก\n"
          ]
        }
      ]
    },
    {
      "cell_type": "code",
      "source": [
        "test_text = \"SCB\"\n",
        "print(generate_text(test_text, model, max_sequence_len))"
      ],
      "metadata": {
        "colab": {
          "base_uri": "https://localhost:8080/"
        },
        "id": "MMyocARxK-SO",
        "outputId": "23a6e5b7-300a-45e0-de4f-fa7c5cea96ca"
      },
      "execution_count": 35,
      "outputs": [
        {
          "output_type": "stream",
          "name": "stdout",
          "text": [
            "SCBท่านได้รับสิทธิ์ยื่นกู้200000ผ่านทางเรา\n"
          ]
        }
      ]
    },
    {
      "cell_type": "code",
      "source": [
        "test_text = \"องค์ใดพระสัมพุทธ\"\n",
        "print(generate_text(test_text, model, max_sequence_len))"
      ],
      "metadata": {
        "colab": {
          "base_uri": "https://localhost:8080/"
        },
        "id": "pL0AT-6lWzCt",
        "outputId": "a060c907-cc6b-42e7-f993-1c5bb7a31413"
      },
      "execution_count": 36,
      "outputs": [
        {
          "output_type": "stream",
          "name": "stdout",
          "text": [
            "องค์ใดพระสัมพุทธช่วยเงินด่วนกู้ง่ายมีรออนุมัติไวคลิ๊ก\n"
          ]
        }
      ]
    },
    {
      "cell_type": "markdown",
      "source": [
        "Save Model"
      ],
      "metadata": {
        "id": "o24DjgMZLMmP"
      }
    },
    {
      "cell_type": "code",
      "source": [
        "import pickle\n",
        "\n",
        "model.save(\"model.h5\")\n",
        "with open('tokenizer.pickle', 'wb') as handle:\n",
        "    pickle.dump(tokenizer, handle, protocol=pickle.HIGHEST_PROTOCOL)"
      ],
      "metadata": {
        "id": "KLYaRzubLJi1"
      },
      "execution_count": 38,
      "outputs": []
    }
  ]
}